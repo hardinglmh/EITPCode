{
  "nbformat": 4,
  "nbformat_minor": 0,
  "metadata": {
    "colab": {
      "name": "ex2.ipynb",
      "provenance": [],
      "collapsed_sections": []
    },
    "kernelspec": {
      "name": "python3",
      "display_name": "Python 3"
    }
  },
  "cells": [
    {
      "cell_type": "markdown",
      "metadata": {
        "id": "QBAIUMPDoPQe",
        "colab_type": "text"
      },
      "source": [
        "<h1><b>Exercise 2: Web Scraping with Beautiful Soup (Part 1)</b></h1>\n",
        "\n",
        "The document you are reading is not a static web page, but an interactive environment called a **Colab notebook** that lets you write and execute code.\n",
        "\n",
        "In this exercise, you do the following:\n",
        "+ Retrieve HTML Source Code from Web by urllib module\n",
        "+ Retrieve elements from HTML Source Code by BeautifulSoup module\n",
        "+ Change date format by Datetime module\n",
        "+ Build CSV file to save the information retrieved"
      ]
    },
    {
      "cell_type": "markdown",
      "metadata": {
        "id": "CmXHZNArfBtL",
        "colab_type": "text"
      },
      "source": [
        "## Retrieve HTML Source Code from Web by urllib module\n",
        "Retrieve the HTML source code from specify URL."
      ]
    },
    {
      "cell_type": "code",
      "metadata": {
        "id": "LxJVWBMhIqe7",
        "colab_type": "code",
        "colab": {}
      },
      "source": [
        "from urllib import request\n",
        "url = \"https://www.eitp.gov.hk/en/programme-document.php\"\n",
        "with request.urlopen(url) as response:\n",
        "  data = response.read().decode(\"utf-8\")"
      ],
      "execution_count": null,
      "outputs": []
    },
    {
      "cell_type": "markdown",
      "metadata": {
        "id": "P5ADUP9MfOSo",
        "colab_type": "text"
      },
      "source": [
        "Display the result."
      ]
    },
    {
      "cell_type": "code",
      "metadata": {
        "id": "Ws3IwtfOe3B2",
        "colab_type": "code",
        "colab": {}
      },
      "source": [
        "print(data)"
      ],
      "execution_count": null,
      "outputs": []
    },
    {
      "cell_type": "markdown",
      "metadata": {
        "id": "Zd8rafXte_zp",
        "colab_type": "text"
      },
      "source": [
        "## Retrieve elements from HTML Source Code by BeautifulSoup module\n",
        "\n",
        "Import BeautifulSoup module."
      ]
    },
    {
      "cell_type": "code",
      "metadata": {
        "id": "Hs_hbigdfjhK",
        "colab_type": "code",
        "colab": {}
      },
      "source": [
        "import bs4\n",
        "root = bs4.BeautifulSoup(data, \"html.parser\")"
      ],
      "execution_count": null,
      "outputs": []
    },
    {
      "cell_type": "markdown",
      "metadata": {
        "id": "e3Wf7xebfnXc",
        "colab_type": "text"
      },
      "source": [
        "Display the result with HTML parser of BeautifulSoup."
      ]
    },
    {
      "cell_type": "code",
      "metadata": {
        "id": "QdX3Bq2Pfvlx",
        "colab_type": "code",
        "colab": {}
      },
      "source": [
        "print(root.prettify())"
      ],
      "execution_count": null,
      "outputs": []
    },
    {
      "cell_type": "markdown",
      "metadata": {
        "id": "yMTPTgwUgL5c",
        "colab_type": "text"
      },
      "source": [
        "Find all elements with class \"programme-item\"."
      ]
    },
    {
      "cell_type": "code",
      "metadata": {
        "id": "hLqisGmzgSOq",
        "colab_type": "code",
        "colab": {}
      },
      "source": [
        "items = root.find_all(class_='programme-item')"
      ],
      "execution_count": null,
      "outputs": []
    },
    {
      "cell_type": "markdown",
      "metadata": {
        "id": "7zJiGMmCgacK",
        "colab_type": "text"
      },
      "source": [
        "Display the elements of class \"programme-item\"."
      ]
    },
    {
      "cell_type": "code",
      "metadata": {
        "id": "quUBuE6xghMC",
        "colab_type": "code",
        "colab": {}
      },
      "source": [
        "print(items)"
      ],
      "execution_count": null,
      "outputs": []
    },
    {
      "cell_type": "markdown",
      "metadata": {
        "id": "GsTCG2BEggpQ",
        "colab_type": "text"
      },
      "source": [
        "Find element with class \"title\"."
      ]
    },
    {
      "cell_type": "code",
      "metadata": {
        "id": "Cegh6VSqg8NH",
        "colab_type": "code",
        "colab": {}
      },
      "source": [
        "titles = root.find(\"div\", class_=\"title\")"
      ],
      "execution_count": null,
      "outputs": []
    },
    {
      "cell_type": "markdown",
      "metadata": {
        "id": "g2nijVsbhDiN",
        "colab_type": "text"
      },
      "source": [
        "Display the first element of class \"title\"."
      ]
    },
    {
      "cell_type": "code",
      "metadata": {
        "id": "lmd5aEOahBV-",
        "colab_type": "code",
        "colab": {}
      },
      "source": [
        "print(titles)"
      ],
      "execution_count": null,
      "outputs": []
    },
    {
      "cell_type": "markdown",
      "metadata": {
        "id": "G7GxDVB2hp6r",
        "colab_type": "text"
      },
      "source": [
        "Display the text of the first element of class \"title\"."
      ]
    },
    {
      "cell_type": "code",
      "metadata": {
        "id": "QbXWI-hPhLLC",
        "colab_type": "code",
        "colab": {}
      },
      "source": [
        "print(titles.string)"
      ],
      "execution_count": null,
      "outputs": []
    },
    {
      "cell_type": "markdown",
      "metadata": {
        "id": "YOp2BiWqiRPh",
        "colab_type": "text"
      },
      "source": [
        "Find all elements with class \"date\"."
      ]
    },
    {
      "cell_type": "code",
      "metadata": {
        "id": "xSkOwBtshu05",
        "colab_type": "code",
        "colab": {}
      },
      "source": [
        "dates = root.find_all(\"div\", class_=\"date\")"
      ],
      "execution_count": null,
      "outputs": []
    },
    {
      "cell_type": "markdown",
      "metadata": {
        "id": "7VoYNFStilgK",
        "colab_type": "text"
      },
      "source": [
        "Display the elements of class \"date\"."
      ]
    },
    {
      "cell_type": "code",
      "metadata": {
        "id": "sz07OzUkiov5",
        "colab_type": "code",
        "colab": {}
      },
      "source": [
        "print(dates)"
      ],
      "execution_count": null,
      "outputs": []
    },
    {
      "cell_type": "markdown",
      "metadata": {
        "id": "n8p3695Siz3S",
        "colab_type": "text"
      },
      "source": [
        "Display the list of text of class \"date\"."
      ]
    },
    {
      "cell_type": "code",
      "metadata": {
        "id": "gtY6OZu0i7uh",
        "colab_type": "code",
        "colab": {}
      },
      "source": [
        "for date in dates:\n",
        "  if date.string != None:\n",
        "    print(date.string)"
      ],
      "execution_count": null,
      "outputs": []
    },
    {
      "cell_type": "markdown",
      "metadata": {
        "id": "sBVIO0PujKm-",
        "colab_type": "text"
      },
      "source": [
        "Display the list of document date."
      ]
    },
    {
      "cell_type": "code",
      "metadata": {
        "id": "1eiOWoemjcgf",
        "colab_type": "code",
        "colab": {}
      },
      "source": [
        "for date in dates:\n",
        "  if date.string != None:\n",
        "    DocDate = date.string.replace(\"Date : \", \"\")\n",
        "    print(DocDate)"
      ],
      "execution_count": null,
      "outputs": []
    },
    {
      "cell_type": "markdown",
      "metadata": {
        "id": "M283O7B4jRaj",
        "colab_type": "text"
      },
      "source": [
        "## Change date format by Datetime module\n",
        "\n",
        "Import datetime module for date formatting."
      ]
    },
    {
      "cell_type": "code",
      "metadata": {
        "id": "m8uckxlhjaHR",
        "colab_type": "code",
        "colab": {}
      },
      "source": [
        "from datetime import datetime"
      ],
      "execution_count": null,
      "outputs": []
    },
    {
      "cell_type": "markdown",
      "metadata": {
        "id": "cEyZMVO7j5FP",
        "colab_type": "text"
      },
      "source": [
        "Convert date format from dd/mm/yyyy to yyyy-mm-dd."
      ]
    },
    {
      "cell_type": "code",
      "metadata": {
        "id": "0gM2mc25j_Tf",
        "colab_type": "code",
        "colab": {}
      },
      "source": [
        "for date in dates:\n",
        "  if date.string != None:\n",
        "    DocDate = date.string.replace(\"Date : \", \"\")\n",
        "    DocDateFormat = datetime.strptime(DocDate, \"%d/%m/%Y\").strftime('%Y-%m-%d')\n",
        "    print(DocDateFormat)"
      ],
      "execution_count": null,
      "outputs": []
    },
    {
      "cell_type": "markdown",
      "metadata": {
        "id": "sp-rWDxik4GJ",
        "colab_type": "text"
      },
      "source": [
        "Display the details of elements of class \"programme-item\"."
      ]
    },
    {
      "cell_type": "code",
      "metadata": {
        "id": "lZ9eY_U_lAp0",
        "colab_type": "code",
        "colab": {}
      },
      "source": [
        "for item in items:\n",
        "  DocName = item.select('.title')[0].text\n",
        "  DocDate = item.select('.date')[0].text.replace(\"Date : \", \"\")\n",
        "  DocDateFormat = datetime.strptime(DocDate, \"%d/%m/%Y\").strftime('%Y-%m-%d')\n",
        "  DocURL = 'https://www.eitp.gov.hk' + item.a.get('href').replace(\"..\", \"\")\n",
        "  print(DocName, DocDate, DocDateFormat, DocURL)"
      ],
      "execution_count": null,
      "outputs": []
    },
    {
      "cell_type": "markdown",
      "metadata": {
        "id": "GGAiYZ-pkREs",
        "colab_type": "text"
      },
      "source": [
        "## Build CSV file to save the information retrieved\n",
        "\n",
        "Import CSV module."
      ]
    },
    {
      "cell_type": "code",
      "metadata": {
        "id": "WosKoYzHkWhX",
        "colab_type": "code",
        "colab": {}
      },
      "source": [
        "import csv"
      ],
      "execution_count": null,
      "outputs": []
    },
    {
      "cell_type": "markdown",
      "metadata": {
        "id": "IWq-h2Z0kbpE",
        "colab_type": "text"
      },
      "source": [
        "Build CSV file with column names."
      ]
    },
    {
      "cell_type": "code",
      "metadata": {
        "id": "h3T-KH8Pkh7-",
        "colab_type": "code",
        "colab": {}
      },
      "source": [
        "f = csv.writer(open('doc-list.csv', 'w'))\n",
        "f.writerow(['DocName', 'DocDate(dd/mm/yyyy)', 'DocDate(yyyy-mm-dd)', 'DocURL'])"
      ],
      "execution_count": null,
      "outputs": []
    },
    {
      "cell_type": "markdown",
      "metadata": {
        "id": "PE4cnHOElYkn",
        "colab_type": "text"
      },
      "source": [
        "Write the records into the CSV file."
      ]
    },
    {
      "cell_type": "code",
      "metadata": {
        "id": "tWdcMZcBlejG",
        "colab_type": "code",
        "colab": {}
      },
      "source": [
        "for item in items:\n",
        "  DocName = item.select('.title')[0].text\n",
        "  DocDate = item.select('.date')[0].text.replace(\"Date : \", \"\")\n",
        "  DocDateFormat = datetime.strptime(DocDate, \"%d/%m/%Y\").strftime('%Y-%m-%d')\n",
        "  DocURL = 'https://www.eitp.gov.hk' + item.a.get('href').replace(\"..\", \"\")\n",
        "  f.writerow([DocName, DocDate, DocDateFormat, DocURL])"
      ],
      "execution_count": null,
      "outputs": []
    },
    {
      "cell_type": "markdown",
      "metadata": {
        "id": "X-GRuYsR-I6U",
        "colab_type": "text"
      },
      "source": [
        "## Full Version"
      ]
    },
    {
      "cell_type": "code",
      "metadata": {
        "id": "ByMneV4Y-NIt",
        "colab_type": "code",
        "colab": {}
      },
      "source": [
        "from urllib import request\n",
        "import bs4\n",
        "import csv\n",
        "from datetime import datetime\n",
        "\n",
        "url = \"https://www.eitp.gov.hk/en/programme-document.php\"\n",
        "with request.urlopen(url) as response:\n",
        "  data = response.read().decode(\"utf-8\")\n",
        "\n",
        "root = bs4.BeautifulSoup(data, \"html.parser\")\n",
        "\n",
        "items = root.find_all(class_='programme-item')\n",
        "\n",
        "f = csv.writer(open('doc-list.csv', 'w'))\n",
        "f.writerow(['DocName', 'DocDate(dd/mm/yyyy)', 'DocDate(yyyy-mm-dd)', 'DocURL'])\n",
        "\n",
        "for item in items:\n",
        "  DocName = item.select('.title')[0].text\n",
        "  DocDate = item.select('.date')[0].text.replace(\"Date : \", \"\")\n",
        "  DocDateFormat = datetime.strptime(DocDate, \"%d/%m/%Y\").strftime('%Y-%m-%d')\n",
        "  DocURL = 'https://www.eitp.gov.hk' + item.a.get('href').replace(\"..\", \"\")\n",
        "  f.writerow([DocName, DocDate, DocDateFormat, DocURL])"
      ],
      "execution_count": null,
      "outputs": []
    }
  ]
}